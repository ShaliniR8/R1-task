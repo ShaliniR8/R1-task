{
  "nbformat": 4,
  "nbformat_minor": 0,
  "metadata": {
    "kernelspec": {
      "display_name": "Python 3",
      "language": "python",
      "name": "python3"
    },
    "language_info": {
      "codemirror_mode": {
        "name": "ipython",
        "version": 3
      },
      "file_extension": ".py",
      "mimetype": "text/x-python",
      "name": "python",
      "nbconvert_exporter": "python",
      "pygments_lexer": "ipython3",
      "version": "3.7.4"
    },
    "colab": {
      "name": "Untitled15.ipynb",
      "provenance": [],
      "collapsed_sections": [],
      "include_colab_link": true
    }
  },
  "cells": [
    {
      "cell_type": "markdown",
      "metadata": {
        "id": "view-in-github",
        "colab_type": "text"
      },
      "source": [
        "<a href=\"https://colab.research.google.com/github/ShaliniR8/R1-task/blob/master/News_classification.ipynb\" target=\"_parent\"><img src=\"https://colab.research.google.com/assets/colab-badge.svg\" alt=\"Open In Colab\"/></a>"
      ]
    },
    {
      "cell_type": "markdown",
      "metadata": {
        "id": "UBKpD7c4P-ga",
        "colab_type": "text"
      },
      "source": [
        "**TASK 2**\n"
      ]
    },
    {
      "cell_type": "code",
      "metadata": {
        "id": "pYBcQxy_4fGL",
        "colab_type": "code",
        "colab": {
          "base_uri": "https://localhost:8080/",
          "height": 55
        },
        "outputId": "af653efb-1a63-4cb9-d0ee-1a977c679c67"
      },
      "source": [
        "from google.colab import drive\n",
        "drive.mount('/content/drive')"
      ],
      "execution_count": 1,
      "outputs": [
        {
          "output_type": "stream",
          "text": [
            "Drive already mounted at /content/drive; to attempt to forcibly remount, call drive.mount(\"/content/drive\", force_remount=True).\n"
          ],
          "name": "stdout"
        }
      ]
    },
    {
      "cell_type": "markdown",
      "metadata": {
        "id": "PbFwgCagmlou",
        "colab_type": "text"
      },
      "source": [
        "**PATHS**"
      ]
    },
    {
      "cell_type": "code",
      "metadata": {
        "id": "mwQyYSmf4gO-",
        "colab_type": "code",
        "colab": {}
      },
      "source": [
        "train_path = r'/content/drive/My Drive/news-topic-classification-master/BBC News Train.csv'\n",
        "test_path = r'/content/drive/My Drive/news-topic-classification-master/BBC News Test.csv'\n",
        "solution_path = r'/content/drive/My Drive/news-topic-classification-master/BBC News Sample Solution.csv'"
      ],
      "execution_count": 2,
      "outputs": []
    },
    {
      "cell_type": "markdown",
      "metadata": {
        "id": "6ZPzqA2HQKe0",
        "colab_type": "text"
      },
      "source": [
        "**Import Libraries**"
      ]
    },
    {
      "cell_type": "code",
      "metadata": {
        "id": "s6F__dCU5c96",
        "colab_type": "code",
        "colab": {
          "base_uri": "https://localhost:8080/",
          "height": 87
        },
        "outputId": "c41437f2-391d-4d5e-8571-36555d7b7ae4"
      },
      "source": [
        "import nltk\n",
        "import pandas as pd\n",
        "import re\n",
        "from nltk.corpus import stopwords\n",
        "nltk.download('stopwords')\n",
        "from nltk.stem import PorterStemmer\n",
        "from nltk.stem.wordnet import WordNetLemmatizer\n",
        "nltk.download('wordnet')\n",
        "from sklearn.feature_extraction.text import TfidfVectorizer\n",
        "from sklearn.linear_model import LogisticRegressionCV\n",
        "import pickle\n",
        "\n",
        "stop = set(stopwords.words('english'))"
      ],
      "execution_count": 3,
      "outputs": [
        {
          "output_type": "stream",
          "text": [
            "[nltk_data] Downloading package stopwords to /root/nltk_data...\n",
            "[nltk_data]   Package stopwords is already up-to-date!\n",
            "[nltk_data] Downloading package wordnet to /root/nltk_data...\n",
            "[nltk_data]   Package wordnet is already up-to-date!\n"
          ],
          "name": "stdout"
        }
      ]
    },
    {
      "cell_type": "markdown",
      "metadata": {
        "id": "Tb4tP15r6e9C",
        "colab_type": "text"
      },
      "source": [
        "**Import dataset**"
      ]
    },
    {
      "cell_type": "code",
      "metadata": {
        "id": "No0sK6y06cHr",
        "colab_type": "code",
        "colab": {}
      },
      "source": [
        "train_df = pd.read_csv(train_path, sep=',')"
      ],
      "execution_count": 4,
      "outputs": []
    },
    {
      "cell_type": "code",
      "metadata": {
        "id": "7rv0hyzC8kqo",
        "colab_type": "code",
        "colab": {
          "base_uri": "https://localhost:8080/",
          "height": 191
        },
        "outputId": "fe89a0d6-32f6-47e6-cb7e-985216046d43"
      },
      "source": [
        "train_df.iloc[0]['Text']"
      ],
      "execution_count": 5,
      "outputs": [
        {
          "output_type": "execute_result",
          "data": {
            "application/vnd.google.colaboratory.intrinsic": {
              "type": "string"
            },
            "text/plain": [
              "'worldcom ex-boss launches defence lawyers defending former worldcom chief bernie ebbers against a battery of fraud charges have called a company whistleblower as their first witness.  cynthia cooper  worldcom s ex-head of internal accounting  alerted directors to irregular accounting practices at the us telecoms giant in 2002. her warnings led to the collapse of the firm following the discovery of an $11bn (£5.7bn) accounting fraud. mr ebbers has pleaded not guilty to charges of fraud and conspiracy.  prosecution lawyers have argued that mr ebbers orchestrated a series of accounting tricks at worldcom  ordering employees to hide expenses and inflate revenues to meet wall street earnings estimates. but ms cooper  who now runs her own consulting business  told a jury in new york on wednesday that external auditors arthur andersen had approved worldcom s accounting in early 2001 and 2002. she said andersen had given a  green light  to the procedures and practices used by worldcom. mr ebber s lawyers have said he was unaware of the fraud  arguing that auditors did not alert him to any problems.  ms cooper also said that during shareholder meetings mr ebbers often passed over technical questions to the company s finance chief  giving only  brief  answers himself. the prosecution s star witness  former worldcom financial chief scott sullivan  has said that mr ebbers ordered accounting adjustments at the firm  telling him to  hit our books . however  ms cooper said mr sullivan had not mentioned  anything uncomfortable  about worldcom s accounting during a 2001 audit committee meeting. mr ebbers could face a jail sentence of 85 years if convicted of all the charges he is facing. worldcom emerged from bankruptcy protection in 2004  and is now known as mci. last week  mci agreed to a buyout by verizon communications in a deal valued at $6.75bn.'"
            ]
          },
          "metadata": {
            "tags": []
          },
          "execution_count": 5
        }
      ]
    },
    {
      "cell_type": "code",
      "metadata": {
        "id": "qiNY_nx6jrR4",
        "colab_type": "code",
        "colab": {
          "base_uri": "https://localhost:8080/",
          "height": 52
        },
        "outputId": "712720d7-a8a8-457c-b9a1-576c487dc414"
      },
      "source": [
        "print('There is no empty row under Text column:',all(train_df['Text']))\n",
        "print('There is no empty row under Category column:',all(train_df['Category']))"
      ],
      "execution_count": 6,
      "outputs": [
        {
          "output_type": "stream",
          "text": [
            "There is no empty row under Text column: True\n",
            "There is no empty row under Category column: True\n"
          ],
          "name": "stdout"
        }
      ]
    },
    {
      "cell_type": "markdown",
      "metadata": {
        "id": "mB--Ez688yMz",
        "colab_type": "text"
      },
      "source": [
        "**PREPROCESS FUNCTIONS**"
      ]
    },
    {
      "cell_type": "code",
      "metadata": {
        "id": "sede2kn-8m57",
        "colab_type": "code",
        "colab": {}
      },
      "source": [
        "#preprocess method does text preprocessing with regex, stopword removal,stemming and lemmatization.\n",
        "\n",
        "def preprocess(df):\n",
        "  \n",
        "  def preprocess_text(text):\n",
        "    s = re.sub('[^\\s+\\w+]', '', text)\n",
        "    s = re.sub('\\n|\\t', ' ', s)\n",
        "    s = re.sub('[0-9]+', '', s)\n",
        "    return s\n",
        "\n",
        "  def remove_stopword(text):\n",
        "    text = [ word.lower() for word in text.split() if word not in stop]\n",
        "    return text\n",
        "\n",
        "  port = PorterStemmer()\n",
        "  def stemming(text):\n",
        "    s = [port.stem(word) for word in text]\n",
        "    return s\n",
        "\n",
        "  lem = WordNetLemmatizer()\n",
        "  def lemmatize(text):\n",
        "      lem_text = [ lem.lemmatize(words) for words in text ]\n",
        "      return ' '.join(lem_text)\n",
        "\n",
        "\n",
        "  df['Text'] = df['Text'].apply(preprocess_text)\n",
        "  df['Text'] = df['Text'].apply(remove_stopword)\n",
        "  df['Text'] = df['Text'].apply(stemming)\n",
        "  df['Text'] = df['Text'].apply(lemmatize)\n",
        "\n",
        "  # ----example----\n",
        "  # Raw: This sentence makes no sense. Hi i am writing a\\n/ <project> %% on !!topic. A good fox jumps over the wall!!!!\n",
        "  # After regex:  This sentence makes no sense Hi i am writing a  project  on topic A good fox jumps over the wall\n",
        "  # After stopword removal:  ['this', 'sentence', 'makes', 'sense', 'hi', 'writing', 'project', 'topic', 'a', 'good', 'fox', 'jumps', 'wall']\n",
        "  # After stemming:  ['thi', 'sentenc', 'make', 'sens', 'hi', 'write', 'project', 'topic', 'a', 'good', 'fox', 'jump', 'wall']\n",
        "  # After lemmatizing:  thi sentenc make sen hi write project topic a good fox jump wall\n",
        "  # ---------------\n",
        "  return df['Text']\n",
        "\n",
        "  \n",
        "  "
      ],
      "execution_count": 7,
      "outputs": []
    },
    {
      "cell_type": "markdown",
      "metadata": {
        "id": "Bh-CKI4NWlwi",
        "colab_type": "text"
      },
      "source": [
        "**VECTORIZE FUNCTION**"
      ]
    },
    {
      "cell_type": "code",
      "metadata": {
        "id": "OYLczkdJMXhE",
        "colab_type": "code",
        "colab": {}
      },
      "source": [
        "def vectorize(df):\n",
        "    tfid = TfidfVectorizer( smooth_idf = True, use_idf = True)\n",
        "    X = tfid.fit_transform(df)\n",
        "    saved_tfidf = open('saved_tfidf.sav', 'wb')\n",
        "    pickle.dump(tfid , saved_tfidf)\n",
        "    saved_tfidf.close()\n",
        "    return X"
      ],
      "execution_count": 8,
      "outputs": []
    },
    {
      "cell_type": "markdown",
      "metadata": {
        "id": "5-AvSBVuX-JW",
        "colab_type": "text"
      },
      "source": [
        "**APPLYING PREPROCESS AND VECTORIZATION ON TRAINING SET**"
      ]
    },
    {
      "cell_type": "code",
      "metadata": {
        "id": "RFcohjETL-ib",
        "colab_type": "code",
        "colab": {}
      },
      "source": [
        "train_df['Text'] = preprocess(train_df)\n",
        "#train_df.iloc[0]['Text']"
      ],
      "execution_count": 9,
      "outputs": []
    },
    {
      "cell_type": "code",
      "metadata": {
        "id": "Rnv6V-7IXzP1",
        "colab_type": "code",
        "colab": {}
      },
      "source": [
        "X_train, y_train = vectorize(train_df['Text']), train_df['Category']"
      ],
      "execution_count": 10,
      "outputs": []
    },
    {
      "cell_type": "markdown",
      "metadata": {
        "id": "P5LKq-4_Zb6K",
        "colab_type": "text"
      },
      "source": [
        "**APPLYING SVC WITH PCA DECOMPOSITION**"
      ]
    },
    {
      "cell_type": "code",
      "metadata": {
        "id": "DbWlMBFmZLuL",
        "colab_type": "code",
        "colab": {
          "base_uri": "https://localhost:8080/",
          "height": 139
        },
        "outputId": "d2c27875-fc70-4fb8-a919-3ccd93ad856a"
      },
      "source": [
        "lr = LogisticRegressionCV(\n",
        "    cv = 5,\n",
        "    scoring = 'accuracy',\n",
        "    verbose = 3,\n",
        "    max_iter = 300,\n",
        "    n_jobs = -1\n",
        ")\n",
        "\n",
        "lr.fit(X_train, y_train)"
      ],
      "execution_count": 11,
      "outputs": [
        {
          "output_type": "stream",
          "text": [
            "[Parallel(n_jobs=-1)]: Using backend LokyBackend with 2 concurrent workers.\n",
            "[Parallel(n_jobs=-1)]: Done   5 out of   5 | elapsed:   57.9s finished\n"
          ],
          "name": "stderr"
        },
        {
          "output_type": "execute_result",
          "data": {
            "text/plain": [
              "LogisticRegressionCV(Cs=10, class_weight=None, cv=5, dual=False,\n",
              "                     fit_intercept=True, intercept_scaling=1.0, l1_ratios=None,\n",
              "                     max_iter=300, multi_class='auto', n_jobs=-1, penalty='l2',\n",
              "                     random_state=None, refit=True, scoring='accuracy',\n",
              "                     solver='lbfgs', tol=0.0001, verbose=3)"
            ]
          },
          "metadata": {
            "tags": []
          },
          "execution_count": 11
        }
      ]
    },
    {
      "cell_type": "code",
      "metadata": {
        "id": "PWJOo4zLaJMl",
        "colab_type": "code",
        "colab": {}
      },
      "source": [
        "saved_model = open( 'saved_model.sav', 'wb')\n",
        "pickle.dump( lr , saved_model )\n",
        "saved_model.close()"
      ],
      "execution_count": 13,
      "outputs": []
    },
    {
      "cell_type": "markdown",
      "metadata": {
        "id": "imq8N3ZXadoi",
        "colab_type": "text"
      },
      "source": [
        "**LOADING TESTING DATASET**"
      ]
    },
    {
      "cell_type": "code",
      "metadata": {
        "id": "hz4nImq0aXl_",
        "colab_type": "code",
        "colab": {
          "base_uri": "https://localhost:8080/",
          "height": 157
        },
        "outputId": "9f198e1b-489c-482d-9b57-0833ab514845"
      },
      "source": [
        "test_df = pd.read_csv(test_path)\n",
        "solution_df = pd.read_csv(solution_path)\n",
        "test_df.iloc[0]['Text']"
      ],
      "execution_count": 14,
      "outputs": [
        {
          "output_type": "execute_result",
          "data": {
            "application/vnd.google.colaboratory.intrinsic": {
              "type": "string"
            },
            "text/plain": [
              "'qpr keeper day heads for preston queens park rangers keeper chris day is set to join preston on a month s loan.  day has been displaced by the arrival of simon royce  who is in his second month on loan from charlton. qpr have also signed italian generoso rossi. r s manager ian holloway said:  some might say it s a risk as he can t be recalled during that month and simon royce can now be recalled by charlton.  but i have other irons in the fire. i have had a  yes  from a couple of others should i need them.   day s rangers contract expires in the summer. meanwhile  holloway is hoping to complete the signing of middlesbrough defender andy davies - either permanently or again on loan - before saturday s match at ipswich. davies impressed during a recent loan spell at loftus road. holloway is also chasing bristol city midfielder tom doherty.'"
            ]
          },
          "metadata": {
            "tags": []
          },
          "execution_count": 14
        }
      ]
    },
    {
      "cell_type": "code",
      "metadata": {
        "id": "I0k1dV3akwrE",
        "colab_type": "code",
        "colab": {
          "base_uri": "https://localhost:8080/",
          "height": 35
        },
        "outputId": "1fdfa353-d1ad-46fd-e0f1-d4087a16f32b"
      },
      "source": [
        "print('There is no empty row under Text column:',all(test_df['Text']))"
      ],
      "execution_count": 15,
      "outputs": [
        {
          "output_type": "stream",
          "text": [
            "There is no empty row under Text column: True\n"
          ],
          "name": "stdout"
        }
      ]
    },
    {
      "cell_type": "markdown",
      "metadata": {
        "id": "JWwF5NyhbANQ",
        "colab_type": "text"
      },
      "source": [
        "**PREPROCESS AND VECTORIZE TEST SET**"
      ]
    },
    {
      "cell_type": "code",
      "metadata": {
        "id": "x_ZDYGR7a16N",
        "colab_type": "code",
        "colab": {}
      },
      "source": [
        "model = pickle.load(open( 'saved_model.sav' , 'rb' ))\n",
        "tfidf = pickle.load(open( 'saved_tfidf.sav' , 'rb' ))"
      ],
      "execution_count": 16,
      "outputs": []
    },
    {
      "cell_type": "code",
      "metadata": {
        "id": "gcUYzdxNbMAF",
        "colab_type": "code",
        "colab": {}
      },
      "source": [
        "test_df['Text'] = preprocess(test_df)\n",
        "X_test, y_test = tfidf.transform(test_df['Text']), solution_df['Category']"
      ],
      "execution_count": 17,
      "outputs": []
    },
    {
      "cell_type": "markdown",
      "metadata": {
        "id": "OzfgSk5ongRe",
        "colab_type": "text"
      },
      "source": [
        "**EVALUATE**"
      ]
    },
    {
      "cell_type": "code",
      "metadata": {
        "id": "-z5yrFOObKfS",
        "colab_type": "code",
        "colab": {
          "base_uri": "https://localhost:8080/",
          "height": 1000
        },
        "outputId": "90e09f28-33a9-4329-d4dd-a000e4ed228c"
      },
      "source": [
        "y_pred = model.predict(X_test)\n",
        "y_pred"
      ],
      "execution_count": 18,
      "outputs": [
        {
          "output_type": "execute_result",
          "data": {
            "text/plain": [
              "array(['sport', 'tech', 'sport', 'business', 'sport', 'sport', 'politics',\n",
              "       'politics', 'entertainment', 'business', 'business', 'tech',\n",
              "       'politics', 'tech', 'entertainment', 'sport', 'politics', 'tech',\n",
              "       'entertainment', 'entertainment', 'business', 'politics', 'sport',\n",
              "       'business', 'politics', 'sport', 'business', 'sport', 'sport',\n",
              "       'business', 'politics', 'tech', 'business', 'business', 'sport',\n",
              "       'sport', 'sport', 'business', 'entertainment', 'entertainment',\n",
              "       'tech', 'politics', 'entertainment', 'tech', 'sport', 'tech',\n",
              "       'entertainment', 'business', 'politics', 'business', 'politics',\n",
              "       'business', 'business', 'business', 'tech', 'business', 'tech',\n",
              "       'entertainment', 'sport', 'tech', 'sport', 'entertainment', 'tech',\n",
              "       'politics', 'entertainment', 'entertainment', 'sport', 'tech',\n",
              "       'sport', 'sport', 'business', 'sport', 'business', 'politics',\n",
              "       'tech', 'sport', 'tech', 'tech', 'tech', 'entertainment',\n",
              "       'politics', 'sport', 'entertainment', 'entertainment', 'business',\n",
              "       'entertainment', 'business', 'entertainment', 'business', 'tech',\n",
              "       'business', 'politics', 'sport', 'tech', 'sport', 'sport', 'sport',\n",
              "       'sport', 'sport', 'sport', 'politics', 'sport', 'business',\n",
              "       'entertainment', 'business', 'sport', 'politics', 'sport',\n",
              "       'politics', 'entertainment', 'sport', 'business', 'entertainment',\n",
              "       'sport', 'politics', 'sport', 'politics', 'sport', 'politics',\n",
              "       'business', 'entertainment', 'business', 'entertainment',\n",
              "       'entertainment', 'tech', 'sport', 'business', 'entertainment',\n",
              "       'business', 'entertainment', 'business', 'politics', 'politics',\n",
              "       'tech', 'business', 'business', 'politics', 'tech',\n",
              "       'entertainment', 'sport', 'business', 'tech', 'sport',\n",
              "       'entertainment', 'politics', 'sport', 'sport', 'entertainment',\n",
              "       'entertainment', 'tech', 'business', 'tech', 'politics', 'tech',\n",
              "       'sport', 'sport', 'sport', 'sport', 'entertainment', 'tech',\n",
              "       'business', 'tech', 'business', 'tech', 'business', 'tech',\n",
              "       'entertainment', 'tech', 'tech', 'politics', 'business',\n",
              "       'politics', 'business', 'business', 'entertainment', 'politics',\n",
              "       'tech', 'business', 'business', 'tech', 'sport', 'politics',\n",
              "       'sport', 'politics', 'tech', 'tech', 'politics', 'business',\n",
              "       'politics', 'entertainment', 'politics', 'business',\n",
              "       'entertainment', 'sport', 'tech', 'tech', 'business', 'tech',\n",
              "       'politics', 'business', 'sport', 'politics', 'business',\n",
              "       'entertainment', 'business', 'business', 'sport', 'tech',\n",
              "       'business', 'sport', 'entertainment', 'entertainment', 'sport',\n",
              "       'entertainment', 'sport', 'tech', 'politics', 'entertainment',\n",
              "       'sport', 'entertainment', 'sport', 'entertainment', 'politics',\n",
              "       'business', 'tech', 'entertainment', 'business', 'politics',\n",
              "       'business', 'tech', 'business', 'sport', 'politics', 'politics',\n",
              "       'politics', 'politics', 'sport', 'business', 'entertainment',\n",
              "       'politics', 'sport', 'politics', 'business', 'sport', 'tech',\n",
              "       'business', 'politics', 'business', 'politics', 'business',\n",
              "       'business', 'sport', 'tech', 'politics', 'entertainment', 'tech',\n",
              "       'entertainment', 'tech', 'sport', 'sport', 'tech', 'sport',\n",
              "       'sport', 'sport', 'entertainment', 'sport', 'politics', 'tech',\n",
              "       'tech', 'sport', 'business', 'sport', 'business', 'sport',\n",
              "       'entertainment', 'business', 'business', 'entertainment',\n",
              "       'politics', 'business', 'sport', 'sport', 'tech', 'sport', 'sport',\n",
              "       'entertainment', 'business', 'sport', 'tech', 'politics',\n",
              "       'entertainment', 'business', 'business', 'politics', 'sport',\n",
              "       'entertainment', 'politics', 'business', 'sport', 'sport', 'tech',\n",
              "       'entertainment', 'sport', 'business', 'tech', 'business', 'sport',\n",
              "       'politics', 'politics', 'entertainment', 'politics',\n",
              "       'entertainment', 'politics', 'business', 'politics', 'tech',\n",
              "       'business', 'sport', 'tech', 'entertainment', 'politics', 'sport',\n",
              "       'politics', 'politics', 'tech', 'politics', 'sport', 'tech',\n",
              "       'politics', 'tech', 'tech', 'entertainment', 'business', 'tech',\n",
              "       'politics', 'business', 'politics', 'sport', 'tech',\n",
              "       'entertainment', 'entertainment', 'business', 'sport', 'tech',\n",
              "       'tech', 'entertainment', 'tech', 'business', 'sport',\n",
              "       'entertainment', 'tech', 'business', 'politics', 'business',\n",
              "       'tech', 'politics', 'politics', 'sport', 'business', 'tech',\n",
              "       'sport', 'politics', 'politics', 'business', 'tech', 'sport',\n",
              "       'politics', 'business', 'politics', 'politics', 'tech',\n",
              "       'entertainment', 'business', 'business', 'sport', 'sport', 'sport',\n",
              "       'tech', 'tech', 'politics', 'tech', 'tech', 'politics', 'business',\n",
              "       'sport', 'sport', 'entertainment', 'entertainment', 'sport',\n",
              "       'tech', 'tech', 'sport', 'tech', 'entertainment', 'politics',\n",
              "       'tech', 'sport', 'business', 'politics', 'entertainment',\n",
              "       'business', 'tech', 'sport', 'politics', 'business', 'business',\n",
              "       'politics', 'tech', 'sport', 'entertainment', 'business', 'tech',\n",
              "       'business', 'tech', 'sport', 'sport', 'politics', 'business',\n",
              "       'tech', 'sport', 'politics', 'business', 'tech', 'tech',\n",
              "       'politics', 'tech', 'business', 'politics', 'business',\n",
              "       'entertainment', 'business', 'entertainment', 'politics',\n",
              "       'entertainment', 'sport', 'business', 'business', 'business',\n",
              "       'sport', 'entertainment', 'business', 'entertainment',\n",
              "       'entertainment', 'sport', 'tech', 'entertainment', 'entertainment',\n",
              "       'business', 'politics', 'entertainment', 'politics', 'politics',\n",
              "       'sport', 'business', 'sport', 'politics', 'entertainment',\n",
              "       'entertainment', 'business', 'business', 'sport', 'politics',\n",
              "       'tech', 'tech', 'politics', 'business', 'sport', 'sport',\n",
              "       'politics', 'sport', 'tech', 'business', 'politics', 'sport',\n",
              "       'politics', 'tech', 'business', 'politics', 'tech', 'politics',\n",
              "       'politics', 'entertainment', 'tech', 'sport', 'sport', 'politics',\n",
              "       'business', 'tech', 'politics', 'sport', 'sport', 'entertainment',\n",
              "       'business', 'entertainment', 'entertainment', 'business',\n",
              "       'politics', 'sport', 'business', 'tech', 'tech', 'business',\n",
              "       'politics', 'sport', 'business', 'sport', 'business', 'politics',\n",
              "       'entertainment', 'sport', 'politics', 'tech', 'sport', 'politics',\n",
              "       'business', 'tech', 'politics', 'sport', 'politics',\n",
              "       'entertainment', 'sport', 'politics', 'business', 'business',\n",
              "       'business', 'tech', 'politics', 'politics', 'sport', 'business',\n",
              "       'tech', 'tech', 'tech', 'sport', 'tech', 'politics', 'business',\n",
              "       'business', 'sport', 'entertainment', 'politics', 'business',\n",
              "       'tech', 'tech', 'sport', 'tech', 'business', 'sport', 'business',\n",
              "       'business', 'business', 'politics', 'politics', 'entertainment',\n",
              "       'entertainment', 'entertainment', 'politics', 'tech', 'tech',\n",
              "       'politics', 'entertainment', 'business', 'sport', 'sport',\n",
              "       'politics', 'entertainment', 'politics', 'sport', 'business',\n",
              "       'business', 'business', 'entertainment', 'tech', 'sport',\n",
              "       'business', 'politics', 'politics', 'tech', 'politics', 'sport',\n",
              "       'politics', 'business', 'tech', 'business', 'sport', 'sport',\n",
              "       'tech', 'sport', 'entertainment', 'tech', 'entertainment', 'tech',\n",
              "       'sport', 'politics', 'business', 'tech', 'politics',\n",
              "       'entertainment', 'entertainment', 'politics', 'business',\n",
              "       'business', 'tech', 'business', 'business', 'business', 'sport',\n",
              "       'entertainment', 'business', 'sport', 'business', 'sport', 'tech',\n",
              "       'business', 'politics', 'sport', 'business', 'sport', 'sport',\n",
              "       'entertainment', 'politics', 'tech', 'sport', 'business', 'sport',\n",
              "       'business', 'sport', 'sport', 'politics', 'tech', 'business',\n",
              "       'tech', 'business', 'sport', 'tech', 'business', 'entertainment',\n",
              "       'business', 'entertainment', 'sport', 'tech', 'business',\n",
              "       'business', 'business', 'politics', 'sport', 'entertainment',\n",
              "       'tech', 'business', 'sport', 'entertainment', 'business',\n",
              "       'entertainment', 'business', 'politics', 'sport', 'sport',\n",
              "       'business', 'tech', 'sport', 'business', 'business', 'business',\n",
              "       'entertainment', 'business', 'entertainment', 'tech', 'sport',\n",
              "       'politics', 'tech', 'politics', 'tech', 'sport', 'tech',\n",
              "       'entertainment', 'business', 'business', 'entertainment',\n",
              "       'politics', 'sport', 'sport', 'sport', 'entertainment', 'tech',\n",
              "       'politics', 'entertainment', 'sport', 'sport', 'politics', 'tech',\n",
              "       'politics', 'entertainment', 'sport', 'entertainment', 'sport',\n",
              "       'tech', 'tech', 'sport', 'sport', 'business', 'tech',\n",
              "       'entertainment', 'business', 'tech', 'business', 'business',\n",
              "       'sport', 'entertainment', 'politics', 'entertainment', 'business',\n",
              "       'politics', 'business', 'politics', 'sport', 'tech', 'tech',\n",
              "       'politics', 'entertainment', 'business', 'tech', 'entertainment',\n",
              "       'entertainment', 'politics', 'business', 'business', 'politics',\n",
              "       'politics', 'tech', 'sport', 'business', 'entertainment',\n",
              "       'politics', 'business', 'politics'], dtype=object)"
            ]
          },
          "metadata": {
            "tags": []
          },
          "execution_count": 18
        }
      ]
    },
    {
      "cell_type": "code",
      "metadata": {
        "id": "H3fuiBMcnvL4",
        "colab_type": "code",
        "colab": {
          "base_uri": "https://localhost:8080/",
          "height": 35
        },
        "outputId": "a7216cc7-6bcc-4a2f-b212-d73c5ebee667"
      },
      "source": [
        "model.score(X_test, y_test)"
      ],
      "execution_count": 19,
      "outputs": [
        {
          "output_type": "execute_result",
          "data": {
            "text/plain": [
              "0.19183673469387755"
            ]
          },
          "metadata": {
            "tags": []
          },
          "execution_count": 19
        }
      ]
    },
    {
      "cell_type": "code",
      "metadata": {
        "id": "h-1GO4-_rT7v",
        "colab_type": "code",
        "colab": {
          "base_uri": "https://localhost:8080/",
          "height": 225
        },
        "outputId": "5992572d-c071-423d-cd45-33800cbb0126"
      },
      "source": [
        "from sklearn.metrics import classification_report\n",
        "\n",
        "print(classification_report( y_test, y_pred))"
      ],
      "execution_count": 20,
      "outputs": [
        {
          "output_type": "stream",
          "text": [
            "               precision    recall  f1-score   support\n",
            "\n",
            "     business       0.21      0.24      0.23       147\n",
            "entertainment       0.21      0.16      0.18       147\n",
            "     politics       0.17      0.16      0.17       147\n",
            "        sport       0.20      0.23      0.22       147\n",
            "         tech       0.17      0.16      0.16       147\n",
            "\n",
            "     accuracy                           0.19       735\n",
            "    macro avg       0.19      0.19      0.19       735\n",
            " weighted avg       0.19      0.19      0.19       735\n",
            "\n"
          ],
          "name": "stdout"
        }
      ]
    },
    {
      "cell_type": "code",
      "metadata": {
        "id": "3HvY04uGzHYi",
        "colab_type": "code",
        "colab": {}
      },
      "source": [
        ""
      ],
      "execution_count": null,
      "outputs": []
    }
  ]
}