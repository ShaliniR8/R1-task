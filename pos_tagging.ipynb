{
  "nbformat": 4,
  "nbformat_minor": 0,
  "metadata": {
    "kernelspec": {
      "display_name": "Python 3",
      "language": "python",
      "name": "python3"
    },
    "language_info": {
      "codemirror_mode": {
        "name": "ipython",
        "version": 3
      },
      "file_extension": ".py",
      "mimetype": "text/x-python",
      "name": "python",
      "nbconvert_exporter": "python",
      "pygments_lexer": "ipython3",
      "version": "3.7.4"
    },
    "colab": {
      "name": "Untitled15.ipynb",
      "provenance": [],
      "collapsed_sections": [],
      "include_colab_link": true
    }
  },
  "cells": [
    {
      "cell_type": "markdown",
      "metadata": {
        "id": "view-in-github",
        "colab_type": "text"
      },
      "source": [
        "<a href=\"https://colab.research.google.com/github/ShaliniR8/R1-task/blob/master/pos_tagging.ipynb\" target=\"_parent\"><img src=\"https://colab.research.google.com/assets/colab-badge.svg\" alt=\"Open In Colab\"/></a>"
      ]
    },
    {
      "cell_type": "markdown",
      "metadata": {
        "id": "UBKpD7c4P-ga",
        "colab_type": "text"
      },
      "source": [
        "**TASK 1**\n"
      ]
    },
    {
      "cell_type": "markdown",
      "metadata": {
        "id": "6ZPzqA2HQKe0",
        "colab_type": "text"
      },
      "source": [
        "*Import Libraries*"
      ]
    },
    {
      "cell_type": "code",
      "metadata": {
        "id": "dJcolnMDoePI",
        "colab_type": "code",
        "colab": {
          "base_uri": "https://localhost:8080/",
          "height": 436
        },
        "outputId": "40815d40-d6c3-4e8c-aa88-7d6d25584b03"
      },
      "source": [
        "!python -m spacy download en_core_web_sm"
      ],
      "execution_count": 128,
      "outputs": [
        {
          "output_type": "stream",
          "text": [
            "Requirement already satisfied: en_core_web_sm==2.2.5 from https://github.com/explosion/spacy-models/releases/download/en_core_web_sm-2.2.5/en_core_web_sm-2.2.5.tar.gz#egg=en_core_web_sm==2.2.5 in /usr/local/lib/python3.6/dist-packages (2.2.5)\n",
            "Requirement already satisfied: spacy>=2.2.2 in /usr/local/lib/python3.6/dist-packages (from en_core_web_sm==2.2.5) (2.2.4)\n",
            "Requirement already satisfied: setuptools in /usr/local/lib/python3.6/dist-packages (from spacy>=2.2.2->en_core_web_sm==2.2.5) (49.1.0)\n",
            "Requirement already satisfied: tqdm<5.0.0,>=4.38.0 in /usr/local/lib/python3.6/dist-packages (from spacy>=2.2.2->en_core_web_sm==2.2.5) (4.41.1)\n",
            "Requirement already satisfied: numpy>=1.15.0 in /usr/local/lib/python3.6/dist-packages (from spacy>=2.2.2->en_core_web_sm==2.2.5) (1.18.5)\n",
            "Requirement already satisfied: blis<0.5.0,>=0.4.0 in /usr/local/lib/python3.6/dist-packages (from spacy>=2.2.2->en_core_web_sm==2.2.5) (0.4.1)\n",
            "Requirement already satisfied: plac<1.2.0,>=0.9.6 in /usr/local/lib/python3.6/dist-packages (from spacy>=2.2.2->en_core_web_sm==2.2.5) (1.1.3)\n",
            "Requirement already satisfied: cymem<2.1.0,>=2.0.2 in /usr/local/lib/python3.6/dist-packages (from spacy>=2.2.2->en_core_web_sm==2.2.5) (2.0.3)\n",
            "Requirement already satisfied: preshed<3.1.0,>=3.0.2 in /usr/local/lib/python3.6/dist-packages (from spacy>=2.2.2->en_core_web_sm==2.2.5) (3.0.2)\n",
            "Requirement already satisfied: wasabi<1.1.0,>=0.4.0 in /usr/local/lib/python3.6/dist-packages (from spacy>=2.2.2->en_core_web_sm==2.2.5) (0.7.0)\n",
            "Requirement already satisfied: murmurhash<1.1.0,>=0.28.0 in /usr/local/lib/python3.6/dist-packages (from spacy>=2.2.2->en_core_web_sm==2.2.5) (1.0.2)\n",
            "Requirement already satisfied: catalogue<1.1.0,>=0.0.7 in /usr/local/lib/python3.6/dist-packages (from spacy>=2.2.2->en_core_web_sm==2.2.5) (1.0.0)\n",
            "Requirement already satisfied: thinc==7.4.0 in /usr/local/lib/python3.6/dist-packages (from spacy>=2.2.2->en_core_web_sm==2.2.5) (7.4.0)\n",
            "Requirement already satisfied: srsly<1.1.0,>=1.0.2 in /usr/local/lib/python3.6/dist-packages (from spacy>=2.2.2->en_core_web_sm==2.2.5) (1.0.2)\n",
            "Requirement already satisfied: requests<3.0.0,>=2.13.0 in /usr/local/lib/python3.6/dist-packages (from spacy>=2.2.2->en_core_web_sm==2.2.5) (2.23.0)\n",
            "Requirement already satisfied: importlib-metadata>=0.20; python_version < \"3.8\" in /usr/local/lib/python3.6/dist-packages (from catalogue<1.1.0,>=0.0.7->spacy>=2.2.2->en_core_web_sm==2.2.5) (1.7.0)\n",
            "Requirement already satisfied: chardet<4,>=3.0.2 in /usr/local/lib/python3.6/dist-packages (from requests<3.0.0,>=2.13.0->spacy>=2.2.2->en_core_web_sm==2.2.5) (3.0.4)\n",
            "Requirement already satisfied: urllib3!=1.25.0,!=1.25.1,<1.26,>=1.21.1 in /usr/local/lib/python3.6/dist-packages (from requests<3.0.0,>=2.13.0->spacy>=2.2.2->en_core_web_sm==2.2.5) (1.24.3)\n",
            "Requirement already satisfied: idna<3,>=2.5 in /usr/local/lib/python3.6/dist-packages (from requests<3.0.0,>=2.13.0->spacy>=2.2.2->en_core_web_sm==2.2.5) (2.10)\n",
            "Requirement already satisfied: certifi>=2017.4.17 in /usr/local/lib/python3.6/dist-packages (from requests<3.0.0,>=2.13.0->spacy>=2.2.2->en_core_web_sm==2.2.5) (2020.6.20)\n",
            "Requirement already satisfied: zipp>=0.5 in /usr/local/lib/python3.6/dist-packages (from importlib-metadata>=0.20; python_version < \"3.8\"->catalogue<1.1.0,>=0.0.7->spacy>=2.2.2->en_core_web_sm==2.2.5) (3.1.0)\n",
            "\u001b[38;5;2m✔ Download and installation successful\u001b[0m\n",
            "You can now load the model via spacy.load('en_core_web_sm')\n"
          ],
          "name": "stdout"
        }
      ]
    },
    {
      "cell_type": "code",
      "metadata": {
        "id": "DVO6nOo2QCSG",
        "colab_type": "code",
        "colab": {}
      },
      "source": [
        "import spacy\n",
        "from collections import defaultdict\n",
        "import re\n",
        "import os"
      ],
      "execution_count": 129,
      "outputs": []
    },
    {
      "cell_type": "markdown",
      "metadata": {
        "id": "opawODJKgOSs",
        "colab_type": "text"
      },
      "source": [
        "*News Article*"
      ]
    },
    {
      "cell_type": "code",
      "metadata": {
        "id": "V9r3waBqWgoa",
        "colab_type": "code",
        "colab": {
          "base_uri": "https://localhost:8080/",
          "height": 55
        },
        "outputId": "053d3098-9826-4588-c166-bbb179873690"
      },
      "source": [
        "from google.colab import drive\n",
        "drive.mount('/content/drive')"
      ],
      "execution_count": 130,
      "outputs": [
        {
          "output_type": "stream",
          "text": [
            "Drive already mounted at /content/drive; to attempt to forcibly remount, call drive.mount(\"/content/drive\", force_remount=True).\n"
          ],
          "name": "stdout"
        }
      ]
    },
    {
      "cell_type": "code",
      "metadata": {
        "id": "dW_BVbZWWh_G",
        "colab_type": "code",
        "colab": {}
      },
      "source": [
        "#Combining 9 articles into one to a larger article\n",
        "article_folder = r'/content/drive/My Drive/Articles'\n",
        "article = []\n",
        "for i in range(1,10):\n",
        "  text_file = os.path.join(article_folder, f'00{i}.txt')\n",
        "  with open(text_file, 'r') as f:\n",
        "    lines = f.read()\n",
        "  article.append(lines)\n"
      ],
      "execution_count": 131,
      "outputs": []
    },
    {
      "cell_type": "code",
      "metadata": {
        "id": "EAAK_gj4gitE",
        "colab_type": "code",
        "colab": {
          "base_uri": "https://localhost:8080/",
          "height": 384
        },
        "outputId": "84ce4236-d6cf-4e98-9d5c-12f91ac90007"
      },
      "source": [
        "print(article[0])"
      ],
      "execution_count": 132,
      "outputs": [
        {
          "output_type": "stream",
          "text": [
            "Ink helps drive democracy in Asia\n",
            "\n",
            "The Kyrgyz Republic, a small, mountainous state of the former Soviet republic, is using invisible ink and ultraviolet readers in the country's elections as part of a drive to prevent multiple voting.\n",
            "\n",
            "This new technology is causing both worries and guarded optimism among different sectors of the population. In an effort to live up to its reputation in the 1990s as \"an island of democracy\", the Kyrgyz President, Askar Akaev, pushed through the law requiring the use of ink during the upcoming Parliamentary and Presidential elections. The US government agreed to fund all expenses associated with this decision.\n",
            "\n",
            "The Kyrgyz Republic is seen by many experts as backsliding from the high point it reached in the mid-1990s with a hastily pushed through referendum in 2003, reducing the legislative branch to one chamber with 75 deputies. The use of ink is only one part of a general effort to show commitment towards more open elections - the German Embassy, the Soros Foundation and the Kyrgyz government have all contributed to purchase transparent ballot boxes.\n",
            "\n",
            "The actual technology behind the ink is not that complicated. The ink is sprayed on a person's left thumb. It dries and is not visible under normal light.\n",
            "\n",
            "However, the presence of ultraviolet light (of the kind used to verify money) causes the ink to glow with a neon yellow light. At the entrance to each polling station, one election official will scan voter's fingers with UV lamp before allowing them to enter, and every voter will have his/her left thumb sprayed with ink before receiving the ballot. If the ink shows under the UV light the voter will not be allowed to enter the polling station. Likewise, any voter who refuses to be inked will not receive the ballot. These elections are assuming even greater significance because of two large factors - the upcoming parliamentary elections are a prelude to a potentially regime changing presidential election in the Autumn as well as the echo of recent elections in other former Soviet Republics, notably Ukraine and Georgia. The use of ink has been controversial - especially among groups perceived to be pro-government.\n",
            "\n",
            "Widely circulated articles compared the use of ink to the rural practice of marking sheep - a still common metaphor in this primarily agricultural society.\n",
            "\n",
            "The author of one such article began a petition drive against the use of the ink. The greatest part of the opposition to ink has often been sheer ignorance. Local newspapers have carried stories that the ink is harmful, radioactive or even that the ultraviolet readers may cause health problems. Others, such as the aggressively middle of the road, Coalition of Non-governmental Organizations, have lauded the move as an important step forward. This type of ink has been used in many elections in the world, in countries as varied as Serbia, South Africa, Indonesia and Turkey. The other common type of ink in elections is indelible visible ink - but as the elections in Afghanistan showed, improper use of this type of ink can cause additional problems. The use of \"invisible\" ink is not without its own problems. In most elections, numerous rumors have spread about it.\n",
            "\n",
            "In Serbia, for example, both Christian and Islamic leaders assured their populations that its use was not contrary to religion. Other rumours are associated with how to remove the ink - various soft drinks, solvents and cleaning products are put forward. However, in reality, the ink is very effective at getting under the cuticle of the thumb and difficult to wash off. The ink stays on the finger for at least 72 hours and for up to a week. The use of ink and readers by itself is not a panacea for election ills. The passage of the inking law is, nevertheless, a clear step forward towards free and fair elections.\" The country's widely watched parliamentary elections are scheduled for 27 February.\n",
            "\n",
            "David Mikosz works for the IFES, an international, non-profit organisation that supports the building of democratic societies.\n",
            "\n"
          ],
          "name": "stdout"
        }
      ]
    },
    {
      "cell_type": "code",
      "metadata": {
        "id": "06u7toYsZ3UU",
        "colab_type": "code",
        "colab": {}
      },
      "source": [
        "#combining the articles\n",
        "doc = '\\n'.join(article)"
      ],
      "execution_count": 133,
      "outputs": []
    },
    {
      "cell_type": "code",
      "metadata": {
        "id": "o7Mlg-LGXgh7",
        "colab_type": "code",
        "colab": {}
      },
      "source": [
        "#loading spacy model\n",
        "nlp = spacy.load(\"en_core_web_sm\")\n",
        "nlp_doc = nlp(doc)"
      ],
      "execution_count": 134,
      "outputs": []
    },
    {
      "cell_type": "code",
      "metadata": {
        "id": "uhJQHrfzgq-Y",
        "colab_type": "code",
        "colab": {
          "base_uri": "https://localhost:8080/",
          "height": 55
        },
        "outputId": "68295fcd-7dbe-4422-a547-bc63decf65fc"
      },
      "source": [
        "#Finding the words for the following 8 pos\n",
        "req_pos = ['NOUN', 'PRON', 'VERB', 'ADJ', 'ADV', 'ADP', 'CONJ', 'INTJ']\n",
        "dic = defaultdict(list)\n",
        "for token in nlp_doc:\n",
        "  if token.pos_ in req_pos and token.is_alpha :\n",
        "    dic[token.pos_].append(token) \n",
        "\n",
        "print(dic)"
      ],
      "execution_count": 135,
      "outputs": [
        {
          "output_type": "stream",
          "text": [
            "defaultdict(<class 'list'>, {'NOUN': [Ink, democracy, state, republic, ink, readers, country, elections, part, drive, voting, technology, worries, optimism, sectors, population, effort, reputation, island, democracy, law, use, ink, elections, government, expenses, decision, experts, point, referendum, branch, chamber, deputies, use, ink, part, effort, commitment, elections, government, ballot, boxes, technology, ink, ink, person, thumb, light, presence, light, kind, money, ink, neon, light, entrance, polling, station, election, official, voter, fingers, UV, lamp, voter, thumb, ink, ballot, ink, UV, light, voter, polling, station, voter, ballot, elections, significance, factors, elections, prelude, regime, election, echo, elections, use, ink, groups, articles, use, ink, practice, sheep, metaphor, society, author, article, petition, drive, use, ink, part, opposition, ink, ignorance, newspapers, stories, ink, readers, health, problems, Others, middle, road, Organizations, move, step, type, ink, elections, world, countries, type, ink, elections, ink, elections, use, type, ink, problems, use, ink, problems, elections, rumors, example, leaders, populations, use, religion, rumours, ink, drinks, solvents, cleaning, products, reality, ink, cuticle, thumb, ink, finger, hours, week, use, ink, readers, panacea, election, ills, passage, law, step, elections, country, elections, organisation, building, societies, cafe, culture, crackdown, authorities, cafes, closing, months, country, government, news, agency, cafes, cafes, set, guidelines, rules, schools, move, series, steps, government, use, crackdown, environment, people, Rules, demand, cafes, metres, schools, hours, children, cafes, cafes, influence, people, cafes, months, types, computer, games, people, amount, violence, people, cafes, cost, computer, hardware, people, PCs, homes, time, government, cafes, guidelines, cafes, country, software, websites, users, Logs, sites, people, Laws, cafe, opening, hours, fire, cafe, people, crackdown, blaze, authorities, cafes, permits, authorities, websites, people, crackdown, porn, time, controls, sex, sites, Reporters, group, report, government, technologies, e, mail, interception, censorship, world, spyware, trojan, trojan, program, firm, software, spyware, tool, weeks, people, security, manager, program, e, mail, attachment, program, users, program, program, tool, suppress, warning, messages, users, banking, passwords, information, users, keystrokes, statement, attack, software, week, software, maker, security, e, mail, software, software, date, release, program, form, users, spyware, programs, internet, use, pop, ups, PC, performance, guru, chairman, founder, laptop, PC, sale, programme, education, tool, countries, laptop, child, development, child, family, village, neighbourhood, child, laptop, text, book, device, laptop, operating, system, display, project, image, panel, trick, fat, speed, ability, processors, memory, device, kit, parts, costs, profit, venture, manufacturers, components, money, bestselling, age, concept, experiments, state, children, laptop, computers, work, idea, children, resistance, teachers, problems, laptops, idea, work, schools, wife, children, laptops, laptops, years, one, kids, things, TV, telephone, games, machine, textbook, laptops, phones, cell, phones, year, laptops, number, years, months, end, discussion, education, ministry, order, child, year, textbooks, years, laptops, quantities, ministries, education, marketing, overheads, Technology, bug, tech, arts, worlds, time, help, help, form, art, sponsorship, infrastructure, provision, dance, tech, firms, industries, inspiration, vice, idea, initiative, idea, model, art, technology, business, worlds, industry, thirst, broadband, technology, head, business, sector, programmes, centres, excellence, institutions, organisations, industries, initiative, launch, art, installation, exhibit, summer, technology, research, development, arm, graphics, rendering, program, graphics, engine, type, gaming, artists, story, model, remnants, seat, power, world, joystick, experience, landscape, river, river, city, survival, hundreds, years, city, artists, river, connections, past, present, flow, modernity, works, game, graphics, engine, game, engine, component, video, game, graphics, rendering, game, objects, game, time, engines, graphics, games, engine, development, models, buildings, planners, urban, game, play, conjunction, street, action, artists, video, elements, worlds, features, order, data, sets, collaboration, art, technology, means, coders, designers, games, makers, animators, art, tools, self, expression, person, street, people, photos, phone, web, instance, creativity, part, technology, exhibition, year, example, thousands, picture, messages, people, installation, Technology, way, creativity, potential, people, technology, businesses, vein, art, world, people, ideas, companies, industry, industry, year, partnership, artists, technologists, part, potential, technologies, broadband, net, art, galleries, museums, seat, house, technology, role, problem, broadband, penetration, businesses, stake, technology, people, reasons, drive, industries, strategies, ideas, business, practices, industries, patent, ideas, tech, companies, thinking, drive, economy, fi, web, farmers, network, community, computer, centres, technology, hand, farmers, pilot, scheme, kilometres, capital, community, date, information, market, prices, trends, links, organisations, charge, water, irrigation, actions, inhabitants, students, region, telecoms, infrastructure, telecentres, source, software, computer, equipment, network, years, making, organisation, project, institutions, ministries, development, organisations, plan, training, computers, internet, skills, operators, users, system, coordinator, Farmers, lessons, information, plots, land, computer, centres, network, self, years, cash, telecentres, internet, cafes, elements, project, flagship, website, farmers, prices, produce, information, topics, plague, prevention, farming, techniques, system, inhabitants, irrigation, systems, Water, element, element, areas, irrigation, systems, website, information, network, farmers, region, experiences, colleagues, rest, world, involvement, farmers, project, success, years, people, thrust, project, community, training, sessions, number, men, women, showcase, enthusiasm, response, people, feedback, women, computer, time, lives, programme, promoters, experience, model, farmers, organisations, pilot, project, potential, places, researcher, community, electricity, construction, telecentre, site, dam, order, worth, power, computers, communications, equipment, cabin, lights, technicians, bulbs, generator, store, bulbs, answer, morning, testing, network, communities, bumper, patches, PC, users, systems, security, fixes, flaws, programs, security, bulletin, security, holes, PCs, attack, number, holes, programs, media, player, messaging, fixes, PC, users, programs, viruses, attacks, holes, flaws, virus, writers, computers, programs, change, data, patches, one, flaws, security, manager, flaws, firm, attacks, flaw, flaw, spates, viruses, home, users, businesses, flaw, patch, hole, attacker, control, machines, files, vulnerabilities, software, month, ones, releases, week, company, security, software, maker, part, plans, security, programs, Virus, e, mail, Security, firms, virus, card, virus, greeting, line, language, person, e, mail, firms, ability, program, firm, e, mail, net, virus, viruses, plunders, e, mail, addresses, mail, software, web, victims, users, attachment, message, code, bug, attachment, e, mail, poses, card, image, faces, virus, line, languages, suffix, e, mail, address, message, message, body, e, mail, machines, virus, firewall, software, backdoor, PC, control, writer, virus, virus, virus, year, hoaxes, Christmases, pen, paper, cards, clients, team, laptop, gadget, gadget, time, magazine, laptop, computers, layout, notebook, PCs, magazine, time, list, gadgets, number, control, Gadgets, parts, electronics, inclusion, magazine, gadgets, self, apparatus, subset, device, items, magazine, end, heart, gadget, gadget, gadget, abacus, magazine, place, gadgets, top, sextant, position, camera, position, video, recorder, device, flash, player, camera, phone, gadget, moment, number, list, transistor, radio, number, entry, CD, player, crystalline, blast, CD, player, magazine, knife, number, list, Gadgets, list, telephone, quartz, watch, list, plenty, oddities, dispenser, toy, egg, scrambler, phones, laptops, navigation, boats, use, centuries, time, marvel, way, player, market, NetMD, laptop, computer, gadget, tool, world, pocket, calculator, clockwork, radio, pocket, calculator, things, people, PC, magazine, editors, people, list, insane, gadget, age, phone, communication, niche, market, laptop, age, gadget, transportation, systems, pie, maker, list, gadgets, thousands, journalists, noteboook, pc, size, paper, light, weeks, set, batteries, keyboard, modem, pity, date, gadget, timeless, tin, opener, safety, razor, blade, wristwatch, thing, stones, horses, hooves, phone, device, effect, way, space, time, ball, point, pen, gadgets, pocket, calculator, improvement, slide, rule, pocket, calculator, game, noises, gadget, gadget, top, toys, list, reflection, tech, obsession, Sinclair, machine, time, home, machine, takings, OS, Shame, marketing, Apple, triumph, fashion, rubbish, laptop, gadgets, sextant, gadgets, TV, control, lack, perspective, world, navigation, see, seed, couch, potato, culture, competition, runners, computing, reason, top, laptop, challenge, wristwatch, telephone, mobile, radios, TVs, army, knife, gadget, years, lot, test, time, series, qwerty, keyboard, storage, set, apps, Case, design, batteries, product, innovation, PC, gadget, readers, err, PC, lists, site, phone, control, readers, publication, phones, notebook, computers, gadgets, communications, devices, series, way, info, beauty, world, living, phone, list, model, tv, Games, taste, programming, living, notebooks, offerings, demise, trackball, way, trackpad, notebook, market, today, use, Congratulations, win], 'VERB': [helps, drive, using, prevent, causing, guarded, live, pushed, requiring, agreed, fund, associated, seen, backsliding, reached, pushed, reducing, show, contributed, purchase, sprayed, dries, used, verify, causes, glow, will, scan, allowing, enter, will, sprayed, receiving, shows, will, allowed, enter, refuses, inked, will, receive, assuming, changing, perceived, circulated, compared, marking, began, carried, may, cause, lauded, used, showed, can, cause, spread, assured, associated, remove, put, getting, wash, stays, inking, watched, scheduled, works, supports, closed, said, According, closed, operating, operate, closed, limit, can, taken, crack, considers, said, carried, create, introduced, can, use, regulated, worried, shut, tries, dictate, can, play, limit, exposed, means, moved, operating, required, use, controls, can, see, visit, kept, can, use, introduced, following, killed, following, moved, clean, demanded, get, operate, shut, arrested, introduced, block, said, developed, seeking, investigating, attempts, switch, released, downloaded, said, called, sent, said, believe, recommended, use, attempts, disable, delete, given, may, try, steal, tracking, said, investigating, called, said, would, buy, improve, said, plans, offer, paid, set, targeted, aims, help, find, remove, monitor, causes, slow, floats, PC, says, developing, will, go, told, Go, hoped, would, become, developing, said, could, said, could, use, described, stripped, would, run, based, need, rear, using, rid, can, skinny, can, gain, use, will, exported, assembled, keep, said, recognised, would, making, published, seen, predicting, based, given, take, received, getting, broken, adapted, set, gave, put, broken, cherish, wants, become, conceded, make, claim, going, make, talking, doing, talking, plans, distributing, expected, make, spend, can, distribute, sell, go, gets, danced, offered, required, come, growing, look, launched, says, shape, will, help, cement, hoping, understand, said, looks, set, focused, mark, open, created, using, incubating, including, Using, used, winning, created, based, excavated, thought, can, navigated, using, offers, running, bricked, disappeared, said, hope, uncovering, can, understand, appreciate, concealing, revealing, used, handles, behave, relate, consuming, create, can, licensed, handle, used, recreate, used, based, combined, wanted, added, handle, argue, create, given, enabling, take, upload, will, become, displayed, create, unleashing, gives, know, said, means, want, brought, growing, trying, understand, according, putting, said, can, asking, solving, reaching, want, give, want, use, borrowing, can, result, trying, creating, said, reaches, linked, providing, helping, aims, offer, provides, enabling, coordinate, will, benefit, uses, inaugurated, led, backed, includes, said, taking, apply, make, runs, aims, make, generated, using, can, find, ranging, helps, organise, unites, make, told, allows, look, share, says, provided, feel, belongs, said, attended, had, had, trained, seeing, say, planning, spreading, cloning, underlined, recalls, happened, build, generate, realised, test, turned, buy, recalls, sell, wait, isolated, releases, warned, update, flagged, could, leave, left, unpatched, considered, affect, including, released, considered, updated, running, could, designed, exploit, could, used, take, install, delete, see, made, fixes, said, known, seen, exploiting, rule, announced, follow, leave, unpatched, fixes, could, use, take, announces, classed, came, announced, buy, make, poses, warning, disguising, translates, receiving, infected, speculate, helping, spread, said, infected, uses, sending, despatch, infected, must, open, travelling, bears, opening, will, says, translates, depending, sent, reads, translated, tries, disable, opens, hand, thought, spread, appeared, seen, prefer, recommend, said, heads, chosen, chosen, helped, define, compiled, includes, needed, moving, warrant, specified, needed, contained, can, used, included, said, tried, makes, concluded, dates, put, include, make, includes, can, forget, emenating, asked, could, said, feature, include, contains, worry, will, subsumed, revolutionised, paved, explode, used, could, go, working, think, should, GPS, created, revolutionalised, can, said, would, evolved, forgot, blessed, make, taking, had, living, got, might, played, made, could, carried, shown, anyhting, say, made, QL, call, rank, reveals, helped, change, improving, developed, put, wish, vapourware, would, manage, beat, got, wearing, using, stood, should, hinge, think, voted, keep, putting, would, tell, should, will, gone, integrated, carry, would, back, would, moved, earn, put, plugged, gave, wish, disheartening, given, uses, cumbersome], 'ADP': [in, of, in, of, among, of, In, up, to, in, of, through, of, during, with, by, from, in, with, through, in, to, with, of, of, towards, behind, on, under, of, of, with, At, to, with, before, with, before, under, of, to, in, of, in, of, among, of, to, of, in, of, against, of, of, to, of, of, of, in, in, in, of, in, in, of, of, of, without, In, about, In, for, to, with, in, at, under, of, off, on, for, for, up, of, by, for, of, towards, for, for, of, in, of, to, of, down, under, of, of, to, in, of, down, on, out, for, in, in, from, on, in, from, to, of, of, to, in, of, in, against, within, in, of, on, in, at, During, up, of, In, down, in, on, At, Without, in, for, among, in, off, by, in, by, at, to, by, in, on, in, for, for, in, of, on, for, in, per, to, of, down, down, to, below, of, down, of, down, for, of, In, on, in, of, on, amongst, from, with, to, in, up, with, in, for, about, in, about, by, of, in, with, In, per, per, on, for, in, of, to, of, for, around, in, of, to, for, about, for, of, after, of, up, with, of, on, on, in, with, in, in, at, in, of, of, of, of, through, until, up, in, to, for, of, to, by, between, of, In, of, to, in, out, in, of, for, in, in, in, with, on, in, to, in, between, by, for, to, on, with, to, for, of, for, of, from, over, of, with, for, in, on, with, in, with, Between, to, by, between, of, of, to, about, about, in, in, With, in, with, in, about, in, for, for, in, for, in, of, by, for, in, in, of, to, on, for, of, between, in, of, in, from, in, in, for, by, on, for, of, at, on, of, of, of, within, through, by, of, of, with, for, on, from, to, of, in, of, beyond, with, from, of, around, of, in, Throughout, to, to, by, of, for, from, for, in, on, among, in, on, in, in, with, during, of, in, of, for, up, to, until, with, with, for, in, In, up, of, to, of, by, over, of, about, out, of, in, of, through, in, of, about, on, into, of, of, on, with, for, across, to, up, with, for, on, of, into, of, of, of, to, in, of, On, up, on, over, to, of, in, in, for, to, of, by, of, of, of, at, at, on, of, In, In, to, of, in, at, in, in, from, from, from, of, at, in, at, in, from, of, from, from, at, in, in, of, inside, about, into, about, for, in, for, For, for, onto, without, about, to, of, for, From, outside, without, about, Of, of, in, of, on, of, of, of, for, of, on, of, in, of, of, for, over, in, off, of, of, with, of, of, by, at, around, for, for, at, off, of, about, By, of, of, in, by, of, on, of, after, in, without, into, of, up, into, for, for, of, to, on, to], 'ADJ': [small, mountainous, former, invisible, ultraviolet, multiple, new, different, upcoming, Presidential, many, high, legislative, general, open, Kyrgyz, transparent, actual, complicated, left, visible, normal, ultraviolet, yellow, left, greater, large, upcoming, parliamentary, presidential, recent, other, former, controversial, pro, government, rural, common, agricultural, such, greatest, sheer, Local, harmful, radioactive, ultraviolet, such, Non, governmental, important, many, varied, other, common, indelible, visible, improper, additional, invisible, own, most, numerous, Christian, Islamic, contrary, Other, various, soft, effective, difficult, clear, free, fair, parliamentary, international, non, profit, democratic, net, Chinese, net, official, most, net, Chinese, net, strict, many, broke, close, latest, Chinese, immoral, net, official, safer, young, net, middle, elementary, net, net, unhealthy, young, Net, popular, high, few, first, Chinese, net, strict, net, net, net, Chinese, net, same, new, overseas, Chinese, net, anti, spyware, last, few, malicious, widespread, anti, virus, anti, spyware, online, other, personal, criminal, anti, virus, own, anti, virus, anti, spyware, beta, advert, less, important, whole, ordinary, flat, second, smaller, slower, digital, popular, own, common, mobile, ambitious, big, Chinese, large, more, cheaper, creative, hi, other, creative, technical, corporate, intimate, hi, creative, serious, creative, natural, several, other, creative, major, international, further, sophisticated, virtual, historical, European, immersive, integral, essential, previous, core, other, expensive, other, intensive, own, Total, virtual, interactive, pervasive, virtual, physical, interactive, new, complex, digital, new, many, keen, more, integral, last, interactive, massive, least, Big, good, creative, rich, creative, traditional, creative, creative, best, creative, altruistic, creative, better, creative, more, future, cultural, wireless, poor, agricultural, vital, local, More, rural, free, open, affordable, non, government, local, European, technical, extra, new, most, sustainable, key, local, latest, vital, main, precious, coastal, scarce, necessary, proper, most, own, other, key, last, vital, equal, perfect, excellent, young, great, old, first, positive, other, keen, other, local, necessary, mini, hydraulic, dark, light, local, light, logical, next, wireless, other, latest, monthly, critical, open, critical, more, usual, instant, other, important, critical, vulnerable, other, malicious, Many, critical, available, important, critical, further, unprotected, important, critical, latest, own, electronic, D, subject, Anti, virus, multilingual, malicious, Anti, virus, many, other, new, malicious, electronic, crude, smiley, subject, final, infected, infected, anti, virus, original, several, traditional, anti, virus, greatest, greatest, first, lightweight, portable, future, top, remote, own, general, only, mobile, oldest, top, Other, pre, electronic, personal, newest, top, first, first, successful, digital, mobile, popular, first, third, top, free, first, original, digital, sweet, bizarre, shell, mobile, technological, more, first, useful, real, important, modern, mobile, more, modern, single, important, modern, interesting, electronic, early, original, excellent, compatible, much, simple, mobile, other, single, short, used, common, many, grateful, great, simple, tinny, hot, true, electronic, better, current, high, first, true, multi, bad, Utter, classic, important, remote, shocking, historical, former, latter, first, front, portable, same, swiss, useful, usable, removable, good, programmable, good, first, Great, first, mobile, best, mobile, biased, mobile, remote, partisan, mobile, other, first, most, practical, little, mobile, rubbish, more, modern, newest, more, useless, inaccurate, uncomfortable, deserved], 'PRON': [it, It, them, who, it, itself, they, they, what, it, what, who, them, them, it, it, It, it, what, it, it, it, it, he, He, he, it, He, He, He, We, we, you, it, you, he, it, there, he, We, it, us, we, we, it, we, He, them, who, they, we, We, He, They, it, They, it, it, it, it, We, we, they, it, They, It, what, they, itself, them, it, something, it, them, them, It, he, It, everyone, it, It, What, we, We, them, them, It, it, it, it, they, it, them, We, we, we, who, we, what, it, It, they, they, we, they, it, They, he, them, it, itself, itself, anyone, it, We, I, we, who, it, we, we, what, it, Who, they, What, it, It, I, it, It, I, who, It, everyone, it, What, It, it, something, It, it, I, everything, them, I, I, it, What, I, mine, it, It, I, you, It, you, There, I, I, IT, I, I, It, it, me, what, I, I, They], 'ADV': [hastily, only, more, that, However, Likewise, even, potentially, as, well, notably, especially, Widely, still, primarily, often, even, aggressively, forward, how, forward, However, very, at, least, nevertheless, forward, widely, illegally, most, recently, how, at, least, away, also, tightly, long, also, hugely, relatively, so, also, most, highly, only, also, Earlier, yet, currently, only, very, just, now, rather, probably, locally, now, widely, where, home, initially, However, where, together, ago, only, also, just, more, already, away, when, Often, more, versa, together, later, commonly, recently, historically, equally, greater, once, now, how, so, also, all, too, fantastically, alone, too, just, online, how, purely, obviously, together, outside, north, up, also, as, well, also, only, officially, also, also, how, There, as, well, also, so, therefore, also, even, mainly, also, when, So, far, very, already, very, There, already, when, so, so, Now, as, well, no, longer, also, less, however, automatically, manually, remotely, Often, when, most, widely, online, currently, then, simply, too, most, widely, already, personally, too, also, potentially, really, also, as, well, most, surprisngly, low, down, also, Why, Soon, Completely, always, anywhere, there, as, well, How, just, Surely, most, most, so, quickly, Surely, most, ever, Also, also, around, probably, else, only, far, ahead, so, over, else, less, quite, literally, vastly, also, there, possibly, only, just, otherwise, How, ever, otherwise, far, most, ago, Still, up, there, Why, obviously, obviously, less, Why, long, either, around, too, never, now, high, Probably, now, even, Particularly, largely, invariably], 'INTJ': [well, Yes]})\n"
          ],
          "name": "stdout"
        }
      ]
    },
    {
      "cell_type": "code",
      "metadata": {
        "id": "7WmfjU6WhEVa",
        "colab_type": "code",
        "colab": {}
      },
      "source": [
        "#displaying data as a dataframe\n",
        "import pandas as pd\n",
        "\n",
        "table = pd.DataFrame()\n",
        "table['Part of speech'] = dic.keys()\n",
        "table['Words'] = dic.values()\n",
        "table['Count'] = table['Words'].apply(lambda x: len(x))"
      ],
      "execution_count": 136,
      "outputs": []
    },
    {
      "cell_type": "code",
      "metadata": {
        "id": "Aa4du3qRo6jy",
        "colab_type": "code",
        "colab": {}
      },
      "source": [
        "#export\n",
        "dir = 'output'\n",
        "if not os.path.isdir(dir):\n",
        "  os.mkdir(dir)\n",
        "\n",
        "table.to_csv(os.path.join(dir, 'pos_tag.csv'))"
      ],
      "execution_count": 137,
      "outputs": []
    },
    {
      "cell_type": "code",
      "metadata": {
        "id": "UItS4hrepXN7",
        "colab_type": "code",
        "colab": {}
      },
      "source": [
        ""
      ],
      "execution_count": 91,
      "outputs": []
    }
  ]
}